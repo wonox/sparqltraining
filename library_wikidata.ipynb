{
 "cells": [
  {
   "cell_type": "code",
   "execution_count": 4,
   "metadata": {},
   "outputs": [
    {
     "name": "stderr",
     "output_type": "stream",
     "text": [
      "<ipython-input-4-44d1888701a3>:26: FutureWarning: pandas.io.json.json_normalize is deprecated, use pandas.json_normalize instead\n",
      "  repository_results_df = pd.io.json.json_normalize(repository_results['results']['bindings'])\n"
     ]
    }
   ],
   "source": [
    "# 機関リポジトリ一覧\n",
    "import datetime\n",
    "import json\n",
    "import pandas as pd\n",
    "from SPARQLWrapper import SPARQLWrapper, JSON\n",
    "sparql_wikidata = SPARQLWrapper(\n",
    "    \"https://query.wikidata.org/sparql\", returnFormat='json')\n",
    "sparql_wikidata.setQuery(\"\"\"\n",
    "PREFIX wd: <http://www.wikidata.org/entity/>\n",
    "PREFIX wdt: <http://www.wikidata.org/prop/direct/>\n",
    "SELECT DISTINCT ?repository ?repositoryLabel ?url\n",
    "WHERE\n",
    "{\n",
    "  ?repository wdt:P31 wd:Q1065413 ;\n",
    "              wdt:P361 ?institution;\n",
    "              wdt:P856 ?url.\n",
    "    ?institution wdt:P17 wd:Q17 .\n",
    "  SERVICE wikibase:label { bd:serviceParam wikibase:language \"ja,de,en\".}\n",
    "}\n",
    "\"\"\")\n",
    "sparql_wikidata.setReturnFormat(JSON)\n",
    "repository_results = sparql_wikidata.query().convert()\n",
    "# print(results)\n",
    "# pandasでJSON文字列・ファイルを読み込み\n",
    "# https://stackoverflow.com/questions/56728845/why-the-results-are-diffrent-in-sparqlwrapper-and-wikidata-query-editor-in-sparq\n",
    "repository_results_df = pd.io.json.json_normalize(\n",
    "    repository_results['results']['bindings'])\n",
    "# EXCELに書き出し\n",
    "now = datetime.datetime.now()\n",
    "filename = './repository_results_' + now.strftime('%Y%m%d_%H%M%S') + '.xlsx'\n",
    "with pd.ExcelWriter(filename) as writer:\n",
    "    repository_results_df.to_excel(writer, sheet_name=now.strftime('%Y%m%d'))\n"
   ]
  },
  {
   "cell_type": "code",
   "execution_count": 6,
   "metadata": {},
   "outputs": [
    {
     "name": "stderr",
     "output_type": "stream",
     "text": [
      "<ipython-input-6-5001fcce0073>:5: FutureWarning: pandas.io.json.json_normalize is deprecated, use pandas.json_normalize instead\n",
      "  results_df = pd.io.json.json_normalize(results['results']['bindings'])\n"
     ]
    }
   ],
   "source": [
    "# pandasでJSON文字列・ファイルを読み込み\n",
    "# https://stackoverflow.com/questions/56728845/why-the-results-are-diffrent-in-sparqlwrapper-and-wikidata-query-editor-in-sparq\n",
    "import pandas as pd\n",
    "import json\n",
    "results_df = pd.io.json.json_normalize(results['results']['bindings'])\n",
    "# print(results_df)\n",
    "# EXCELに書き出し\n",
    "with pd.ExcelWriter('results.xlsx') as writer:\n",
    "    results_df.to_excel(writer, sheet_name='20200804')\n"
   ]
  },
  {
   "cell_type": "code",
   "execution_count": null,
   "metadata": {},
   "outputs": [],
   "source": [
    "# 大学図書館一覧\n",
    "# Q856234 -> 大学図書館, Q17-> 日本,\n",
    "from SPARQLWrapper import SPARQLWrapper, JSON\n",
    "sparql_wikidata = SPARQLWrapper(\n",
    "    \"https://query.wikidata.org/sparql\", returnFormat='json')\n",
    "sparql_wikidata.setQuery(\"\"\"\n",
    "PREFIX wd: <http://www.wikidata.org/entity/>\n",
    "PREFIX wdt: <http://www.wikidata.org/prop/direct/>\n",
    "SELECT DISTINCT ?aclib ?aclibLabel ?P791\n",
    "WHERE\n",
    "{\n",
    "  ?aclib wdt:P31 wd:Q856234.\n",
    "  ?aclib wdt:P17 wd:Q17 .\n",
    "  SERVICE wikibase:label { bd:serviceParam wikibase:language \"ja,de,en\".}\n",
    "}\n",
    "\"\"\")\n",
    "sparql_wikidata.setReturnFormat(JSON)\n",
    "results = sparql_wikidata.query().convert()\n",
    "print(results)\n"
   ]
  },
  {
   "cell_type": "code",
   "execution_count": 3,
   "metadata": {},
   "outputs": [
    {
     "name": "stderr",
     "output_type": "stream",
     "text": [
      "<ipython-input-3-5b2a256f66a1>:25: FutureWarning: pandas.io.json.json_normalize is deprecated, use pandas.json_normalize instead\n",
      "  library_results_df = pd.io.json.json_normalize(library_results['results']['bindings'])\n"
     ]
    }
   ],
   "source": [
    "# 日本の大学図書館\n",
    "import pandas as pd\n",
    "from SPARQLWrapper import SPARQLWrapper, JSON\n",
    "sparql_wikidata = SPARQLWrapper(\n",
    "    \"https://query.wikidata.org/sparql\", returnFormat='json')\n",
    "sparql_wikidata.setQuery(\"\"\"\n",
    "PREFIX wd: <http://www.wikidata.org/entity/>\n",
    "PREFIX wdt: <http://www.wikidata.org/prop/direct/>\n",
    "SELECT ?item ?itemLabel ?isni ?isil\n",
    "WHERE {\n",
    "?item wdt:P31 wd:Q856234;\n",
    "    wdt:P17 wd:Q17.\n",
    "    OPTIONAL {?item wdt:P213 ?isni.}\n",
    "    OPTIONAL {?item wdt:P791 ?isil.}\n",
    "SERVICE wikibase:label { bd:serviceParam wikibase:language \"ja,de,en\".}\n",
    "}\n",
    "ORDER BY(?itemLabel)\n",
    "\"\"\")\n",
    "sparql_wikidata.setReturnFormat(JSON)\n",
    "library_results = sparql_wikidata.query().convert()\n",
    "# print(library_results)\n",
    "\n",
    "# pandasでJSON文字列・ファイルを読み込み\n",
    "# https://stackoverflow.com/questions/56728845/why-the-results-are-diffrent-in-sparqlwrapper-and-wikidata-query-editor-in-sparq\n",
    "library_results_df = pd.io.json.json_normalize(\n",
    "    library_results['results']['bindings'])\n",
    "# print(library_results_df)\n",
    "# EXCELに書き出し\n",
    "now = datetime.datetime.now()\n",
    "filename = './library_results_' + now.strftime('%Y%m%d_%H%M%S') + '.xlsx'\n",
    "with pd.ExcelWriter(filename) as writer:\n",
    "    library_results_df.to_excel(writer, sheet_name=now.strftime('%Y%m%d'))\n"
   ]
  },
  {
   "cell_type": "code",
   "execution_count": 2,
   "metadata": {},
   "outputs": [
    {
     "name": "stderr",
     "output_type": "stream",
     "text": [
      "<ipython-input-2-44733d51e52b>:32: FutureWarning: pandas.io.json.json_normalize is deprecated, use pandas.json_normalize instead\n",
      "  results_df = pd.io.json.json_normalize(journal_results['results']['bindings'])\n",
      "<ipython-input-2-44733d51e52b>:34: FutureWarning: pandas.io.json.json_normalize is deprecated, use pandas.json_normalize instead\n",
      "  journal_results_df = pd.io.json.json_normalize(\n"
     ]
    }
   ],
   "source": [
    "# 日本の学術雑誌\n",
    "import datetime\n",
    "import json\n",
    "import pandas as pd\n",
    "from SPARQLWrapper import SPARQLWrapper, JSON\n",
    "sparql_wikidata = SPARQLWrapper(\n",
    "    \"https://query.wikidata.org/sparql\", returnFormat='json')\n",
    "sparql_wikidata.setQuery(\"\"\"\n",
    "PREFIX wd: <http://www.wikidata.org/entity/>\n",
    "PREFIX wdt: <http://www.wikidata.org/prop/direct/>\n",
    "SELECT ?item ?itemLabel ?issn ?url ?pub WHERE {\n",
    "  { ?item wdt:P31 wd:Q5633421. }\n",
    "  UNION\n",
    "  { ?item wdt:P31 wd:Q11605103. }\n",
    "  UNION\n",
    "  { ?item wdt:P31 wd:Q737498. }\n",
    "  { ?item wdt:P495 wd:Q17. }\n",
    "  UNION\n",
    "  { ?item wdt:P17 wd:Q17. }\n",
    "  ?item wdt:P236 ?issn;\n",
    "    wdt:P856 ?url.\n",
    "  OPTIONAL { ?item wdt:P123 ?pub. }\n",
    "  SERVICE wikibase:label { bd:serviceParam wikibase:language \"ja,de,en\". }\n",
    "}\n",
    "\"\"\")\n",
    "sparql_wikidata.setReturnFormat(JSON)\n",
    "journal_results = sparql_wikidata.query().convert()\n",
    "# print(journal_results)\n",
    "\n",
    "# pandasでJSON文字列・ファイルを読み込み\n",
    "# https://stackoverflow.com/questions/56728845/why-the-results-are-diffrent-in-sparqlwrapper-and-wikidata-query-editor-in-sparq\n",
    "results_df = pd.io.json.json_normalize(journal_results['results']['bindings'])\n",
    "# print(results_df)\n",
    "journal_results_df = pd.io.json.json_normalize(\n",
    "    journal_results['results']['bindings'])\n",
    "# EXCELに書き出し\n",
    "now = datetime.datetime.now()\n",
    "filename = './journal_results_' + now.strftime('%Y%m%d_%H%M%S') + '.xlsx'\n",
    "with pd.ExcelWriter(filename) as writer:\n",
    "    journal_results_df.to_excel(writer, sheet_name=now.strftime('%Y%m%d'))\n"
   ]
  },
  {
   "cell_type": "code",
   "execution_count": 10,
   "metadata": {},
   "outputs": [
    {
     "name": "stderr",
     "output_type": "stream",
     "text": [
      "<ipython-input-10-668cf0ea3bb5>:36: FutureWarning: pandas.io.json.json_normalize is deprecated, use pandas.json_normalize instead\n",
      "  institute_results_df = pd.io.json.json_normalize(institute_results['results']['bindings'])\n",
      "<ipython-input-10-668cf0ea3bb5>:37: FutureWarning: pandas.io.json.json_normalize is deprecated, use pandas.json_normalize instead\n",
      "  institute_results_df = pd.io.json.json_normalize(\n"
     ]
    }
   ],
   "source": [
    "# 日本の大学のQ番号とrorIDの対照表\n",
    "import datetime\n",
    "import json\n",
    "import pandas as pd\n",
    "from SPARQLWrapper import SPARQLWrapper, JSON\n",
    "sparql_wikidata = SPARQLWrapper(\n",
    "    \"https://query.wikidata.org/sparql\", returnFormat='json')\n",
    "sparql_wikidata.setQuery(\"\"\"\n",
    "PREFIX wd: <http://www.wikidata.org/entity/>\n",
    "PREFIX wdt: <http://www.wikidata.org/prop/direct/>\n",
    "SELECT DISTINCT ?institution ?institutionLabel ?ror\n",
    "WHERE\n",
    "{\n",
    "    {?institution wdt:P31 wd:Q3918 .}  # 大学\n",
    "    UNION\n",
    "    {?institution wdt:P31 wd:Q902104 .}  # 私立大学\n",
    "    UNION\n",
    "    {?institution wdt:P31 wd:Q265662 .}  # 国立大学\n",
    "    UNION\n",
    "    {?institution wdt:P31 wd:Q875538 .}  # 公立大学\n",
    "    UNION\n",
    "    {?institution wdt:P31 wd:Q189004 .}  # college\n",
    "    UNION\n",
    "    {?institution wdt:P31 wd:Q370258 .}  # junior college\n",
    "    ?institution wdt:P17 wd:Q17 .\n",
    "    OPTIONAL {?institution wdt:P6782 ?ror .}\n",
    "    SERVICE wikibase:label {bd:serviceParam wikibase:language \"[AUTO_LANGUAGE],ja\".}\n",
    "}\n",
    "\"\"\")\n",
    "sparql_wikidata.setReturnFormat(JSON)\n",
    "institute_results = sparql_wikidata.query().convert()\n",
    "# print(institute_results)\n",
    "\n",
    "# pandasでJSON文字列・ファイルを読み込み\n",
    "# https://stackoverflow.com/questions/56728845/why-the-results-are-diffrent-in-sparqlwrapper-and-wikidata-query-editor-in-sparq\n",
    "institute_results_df = pd.io.json.json_normalize(\n",
    "    institute_results['results']['bindings'])\n",
    "# EXCELに書き出し\n",
    "now = datetime.datetime.now()\n",
    "filename = './institute_results_' + now.strftime('%Y%m%d_%H%M%S') + '.xlsx'\n",
    "with pd.ExcelWriter(filename) as writer:\n",
    "    institute_results_df.to_excel(writer, sheet_name=now.strftime('%Y%m%d'))\n"
   ]
  },
  {
   "cell_type": "code",
   "execution_count": 7,
   "metadata": {},
   "outputs": [
    {
     "name": "stderr",
     "output_type": "stream",
     "text": [
      "<ipython-input-7-9a5492cb0dd5>:22: FutureWarning: pandas.io.json.json_normalize is deprecated, use pandas.json_normalize instead\n",
      "  kiyou_results_df = pd.io.json.json_normalize(\n"
     ]
    }
   ],
   "source": [
    "#紀要 Q11605103\n",
    "import datetime\n",
    "import json\n",
    "import pandas as pd\n",
    "from SPARQLWrapper import SPARQLWrapper, JSON\n",
    "sparql_wikidata = SPARQLWrapper(\n",
    "    \"https://query.wikidata.org/sparql\", returnFormat='json')\n",
    "sparql_wikidata.setQuery(\"\"\"\n",
    "PREFIX wd: <http://www.wikidata.org/entity/>\n",
    "PREFIX wdt: <http://www.wikidata.org/prop/direct/>\n",
    "SELECT ?item ?itemLabel ?publisherLabel WHERE {\n",
    "  ?item wdt:P31 wd:Q11605103.\n",
    "  OPTIONAL { ?item wdt:P123 ?publisher. }\n",
    "  SERVICE wikibase:label { bd:serviceParam wikibase:language \"[AUTO_LANGUAGE],ja,en\". }\n",
    "}\n",
    "\"\"\")\n",
    "sparql_wikidata.setReturnFormat(JSON)\n",
    "kiyou_results = sparql_wikidata.query().convert()\n",
    "\n",
    "# pandasでJSON文字列・ファイルを読み込み\n",
    "# https://stackoverflow.com/questions/56728845/why-the-results-are-diffrent-in-sparqlwrapper-and-wikidata-query-editor-in-sparq\n",
    "kiyou_results_df = pd.io.json.json_normalize(\n",
    "    kiyou_results['results']['bindings'])\n",
    "# EXCELに書き出し\n",
    "now = datetime.datetime.now()\n",
    "filename = './kiyou_results_' + now.strftime('%Y%m%d_%H%M%S') + '.xlsx'\n",
    "with pd.ExcelWriter(filename) as writer:\n",
    "    kiyou_results_df.to_excel(writer, sheet_name=now.strftime('%Y%m%d'))\n",
    "\n"
   ]
  },
  {
   "cell_type": "code",
   "execution_count": 16,
   "metadata": {},
   "outputs": [
    {
     "name": "stderr",
     "output_type": "stream",
     "text": [
      "<ipython-input-16-ed26422f1e2b>:24: FutureWarning: pandas.io.json.json_normalize is deprecated, use pandas.json_normalize instead\n",
      "  bunko_results_df = pd.io.json.json_normalize(\n"
     ]
    }
   ],
   "source": [
    "#日本の大学の特殊文庫\n",
    "import datetime\n",
    "import json\n",
    "import pandas as pd\n",
    "from SPARQLWrapper import SPARQLWrapper, JSON\n",
    "sparql_wikidata = SPARQLWrapper(\n",
    "    \"https://query.wikidata.org/sparql\", returnFormat='json')\n",
    "\n",
    "sparql_wikidata.setQuery(\"\"\"\n",
    "SELECT ?item ?itemLabel ?libraryLabel ?url WHERE {\n",
    "  ?item wdt:P31 wd:Q62108745.\n",
    "  OPTIONAL {\n",
    "    ?item wdt:P361 ?library;\n",
    "      wdt:P856 ?url.\n",
    "  }\n",
    "  SERVICE wikibase:label { bd:serviceParam wikibase:language \"[AUTO_LANGUAGE],ja,en\". }\n",
    "}\n",
    "\"\"\")\n",
    "sparql_wikidata.setReturnFormat(JSON)\n",
    "bunko_results = sparql_wikidata.query().convert()\n",
    "\n",
    "# pandasでJSON文字列・ファイルを読み込み\n",
    "# https://stackoverflow.com/questions/56728845/why-the-results-are-diffrent-in-sparqlwrapper-and-wikidata-query-editor-in-sparq\n",
    "bunko_results_df = pd.io.json.json_normalize(\n",
    "    bunko_results['results']['bindings'])\n",
    "# EXCELに書き出し\n",
    "now = datetime.datetime.now()\n",
    "filename = './bunko_results_' + now.strftime('%Y%m%d_%H%M%S') + '.xlsx'\n",
    "with pd.ExcelWriter(filename) as writer:\n",
    "    bunko_results_df.to_excel(writer, sheet_name=now.strftime('%Y%m%d'))\n"
   ]
  }
 ],
 "metadata": {
  "kernelspec": {
   "display_name": "Python 3.8.8 ('base')",
   "language": "python",
   "name": "python3"
  },
  "language_info": {
   "codemirror_mode": {
    "name": "ipython",
    "version": 3
   },
   "file_extension": ".py",
   "mimetype": "text/x-python",
   "name": "python",
   "nbconvert_exporter": "python",
   "pygments_lexer": "ipython3",
   "version": "3.8.8"
  },
  "orig_nbformat": 4,
  "vscode": {
   "interpreter": {
    "hash": "afaf18bb8d334b8578cb7cb896db3e9fd6b32fbda0841a9055cb27cf89eb9d11"
   }
  }
 },
 "nbformat": 4,
 "nbformat_minor": 2
}
