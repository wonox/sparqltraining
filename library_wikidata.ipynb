{
 "cells": [
  {
   "cell_type": "code",
   "execution_count": 4,
   "metadata": {},
   "outputs": [
    {
     "name": "stderr",
     "output_type": "stream",
     "text": [
      "<ipython-input-4-44d1888701a3>:26: FutureWarning: pandas.io.json.json_normalize is deprecated, use pandas.json_normalize instead\n",
      "  repository_results_df = pd.io.json.json_normalize(repository_results['results']['bindings'])\n"
     ]
    }
   ],
   "source": [
    "# 機関リポジトリ一覧\n",
    "import datetime\n",
    "import json\n",
    "import pandas as pd\n",
    "from SPARQLWrapper import SPARQLWrapper, JSON\n",
    "sparql_wikidata = SPARQLWrapper(\n",
    "    \"https://query.wikidata.org/sparql\", returnFormat='json')\n",
    "sparql_wikidata.setQuery(\"\"\"\n",
    "PREFIX wd: <http://www.wikidata.org/entity/>\n",
    "PREFIX wdt: <http://www.wikidata.org/prop/direct/>\n",
    "SELECT DISTINCT ?repository ?repositoryLabel ?url\n",
    "WHERE\n",
    "{\n",
    "  ?repository wdt:P31 wd:Q1065413 ;\n",
    "              wdt:P361 ?institution;\n",
    "              wdt:P856 ?url.\n",
    "    ?institution wdt:P17 wd:Q17 .\n",
    "  SERVICE wikibase:label { bd:serviceParam wikibase:language \"ja,de,en\".}\n",
    "}\n",
    "\"\"\")\n",
    "sparql_wikidata.setReturnFormat(JSON)\n",
    "repository_results = sparql_wikidata.query().convert()\n",
    "# print(results)\n",
    "# pandasでJSON文字列・ファイルを読み込み\n",
    "# https://stackoverflow.com/questions/56728845/why-the-results-are-diffrent-in-sparqlwrapper-and-wikidata-query-editor-in-sparq\n",
    "repository_results_df = pd.io.json.json_normalize(\n",
    "    repository_results['results']['bindings'])\n",
    "# EXCELに書き出し\n",
    "now = datetime.datetime.now()\n",
    "filename = './repository_results_' + now.strftime('%Y%m%d_%H%M%S') + '.xlsx'\n",
    "with pd.ExcelWriter(filename) as writer:\n",
    "    repository_results_df.to_excel(writer, sheet_name=now.strftime('%Y%m%d'))\n"
   ]
  },
  {
   "cell_type": "code",
   "execution_count": 6,
   "metadata": {},
   "outputs": [
    {
     "name": "stderr",
     "output_type": "stream",
     "text": [
      "<ipython-input-6-5001fcce0073>:5: FutureWarning: pandas.io.json.json_normalize is deprecated, use pandas.json_normalize instead\n",
      "  results_df = pd.io.json.json_normalize(results['results']['bindings'])\n"
     ]
    }
   ],
   "source": [
    "# pandasでJSON文字列・ファイルを読み込み\n",
    "# https://stackoverflow.com/questions/56728845/why-the-results-are-diffrent-in-sparqlwrapper-and-wikidata-query-editor-in-sparq\n",
    "import pandas as pd\n",
    "import json\n",
    "results_df = pd.io.json.json_normalize(results['results']['bindings'])\n",
    "# print(results_df)\n",
    "# EXCELに書き出し\n",
    "with pd.ExcelWriter('results.xlsx') as writer:\n",
    "    results_df.to_excel(writer, sheet_name='20200804')\n"
   ]
  },
  {
   "cell_type": "code",
   "execution_count": null,
   "metadata": {},
   "outputs": [],
   "source": [
    "# 大学図書館一覧\n",
    "# Q856234 -> 大学図書館, Q17-> 日本,\n",
    "from SPARQLWrapper import SPARQLWrapper, JSON\n",
    "sparql_wikidata = SPARQLWrapper(\n",
    "    \"https://query.wikidata.org/sparql\", returnFormat='json')\n",
    "sparql_wikidata.setQuery(\"\"\"\n",
    "PREFIX wd: <http://www.wikidata.org/entity/>\n",
    "PREFIX wdt: <http://www.wikidata.org/prop/direct/>\n",
    "SELECT DISTINCT ?aclib ?aclibLabel ?P791\n",
    "WHERE\n",
    "{\n",
    "  ?aclib wdt:P31 wd:Q856234.\n",
    "  ?aclib wdt:P17 wd:Q17 .\n",
    "  SERVICE wikibase:label { bd:serviceParam wikibase:language \"ja,de,en\".}\n",
    "}\n",
    "\"\"\")\n",
    "sparql_wikidata.setReturnFormat(JSON)\n",
    "results = sparql_wikidata.query().convert()\n",
    "print(results)\n"
   ]
  },
  {
   "cell_type": "code",
   "execution_count": 3,
   "metadata": {},
   "outputs": [
    {
     "name": "stderr",
     "output_type": "stream",
     "text": [
      "<ipython-input-3-5b2a256f66a1>:25: FutureWarning: pandas.io.json.json_normalize is deprecated, use pandas.json_normalize instead\n",
      "  library_results_df = pd.io.json.json_normalize(library_results['results']['bindings'])\n"
     ]
    }
   ],
   "source": [
    "# 日本の大学図書館\n",
    "import pandas as pd\n",
    "from SPARQLWrapper import SPARQLWrapper, JSON\n",
    "sparql_wikidata = SPARQLWrapper(\n",
    "    \"https://query.wikidata.org/sparql\", returnFormat='json')\n",
    "sparql_wikidata.setQuery(\"\"\"\n",
    "PREFIX wd: <http://www.wikidata.org/entity/>\n",
    "PREFIX wdt: <http://www.wikidata.org/prop/direct/>\n",
    "SELECT ?item ?itemLabel ?isni ?isil\n",
    "WHERE {\n",
    "?item wdt:P31 wd:Q856234;\n",
    "    wdt:P17 wd:Q17.\n",
    "    OPTIONAL {?item wdt:P213 ?isni.}\n",
    "    OPTIONAL {?item wdt:P791 ?isil.}\n",
    "SERVICE wikibase:label { bd:serviceParam wikibase:language \"ja,de,en\".}\n",
    "}\n",
    "ORDER BY(?itemLabel)\n",
    "\"\"\")\n",
    "sparql_wikidata.setReturnFormat(JSON)\n",
    "library_results = sparql_wikidata.query().convert()\n",
    "# print(library_results)\n",
    "\n",
    "# pandasでJSON文字列・ファイルを読み込み\n",
    "# https://stackoverflow.com/questions/56728845/why-the-results-are-diffrent-in-sparqlwrapper-and-wikidata-query-editor-in-sparq\n",
    "library_results_df = pd.io.json.json_normalize(\n",
    "    library_results['results']['bindings'])\n",
    "# print(library_results_df)\n",
    "# EXCELに書き出し\n",
    "now = datetime.datetime.now()\n",
    "filename = './library_results_' + now.strftime('%Y%m%d_%H%M%S') + '.xlsx'\n",
    "with pd.ExcelWriter(filename) as writer:\n",
    "    library_results_df.to_excel(writer, sheet_name=now.strftime('%Y%m%d'))\n"
   ]
  },
  {
   "cell_type": "code",
   "execution_count": 2,
   "metadata": {},
   "outputs": [
    {
     "name": "stderr",
     "output_type": "stream",
     "text": [
      "<ipython-input-2-44733d51e52b>:32: FutureWarning: pandas.io.json.json_normalize is deprecated, use pandas.json_normalize instead\n",
      "  results_df = pd.io.json.json_normalize(journal_results['results']['bindings'])\n",
      "<ipython-input-2-44733d51e52b>:34: FutureWarning: pandas.io.json.json_normalize is deprecated, use pandas.json_normalize instead\n",
      "  journal_results_df = pd.io.json.json_normalize(\n"
     ]
    }
   ],
   "source": [
    "# 日本の学術雑誌\n",
    "import datetime\n",
    "import json\n",
    "import pandas as pd\n",
    "from SPARQLWrapper import SPARQLWrapper, JSON\n",
    "sparql_wikidata = SPARQLWrapper(\n",
    "    \"https://query.wikidata.org/sparql\", returnFormat='json')\n",
    "sparql_wikidata.setQuery(\"\"\"\n",
    "PREFIX wd: <http://www.wikidata.org/entity/>\n",
    "PREFIX wdt: <http://www.wikidata.org/prop/direct/>\n",
    "SELECT ?item ?itemLabel ?issn ?url ?pub WHERE {\n",
    "  { ?item wdt:P31 wd:Q5633421. }\n",
    "  UNION\n",
    "  { ?item wdt:P31 wd:Q11605103. }\n",
    "  UNION\n",
    "  { ?item wdt:P31 wd:Q737498. }\n",
    "  { ?item wdt:P495 wd:Q17. }\n",
    "  UNION\n",
    "  { ?item wdt:P17 wd:Q17. }\n",
    "  ?item wdt:P236 ?issn;\n",
    "    wdt:P856 ?url.\n",
    "  OPTIONAL { ?item wdt:P123 ?pub. }\n",
    "  SERVICE wikibase:label { bd:serviceParam wikibase:language \"ja,de,en\". }\n",
    "}\n",
    "\"\"\")\n",
    "sparql_wikidata.setReturnFormat(JSON)\n",
    "journal_results = sparql_wikidata.query().convert()\n",
    "# print(journal_results)\n",
    "\n",
    "# pandasでJSON文字列・ファイルを読み込み\n",
    "# https://stackoverflow.com/questions/56728845/why-the-results-are-diffrent-in-sparqlwrapper-and-wikidata-query-editor-in-sparq\n",
    "results_df = pd.io.json.json_normalize(journal_results['results']['bindings'])\n",
    "# print(results_df)\n",
    "journal_results_df = pd.io.json.json_normalize(\n",
    "    journal_results['results']['bindings'])\n",
    "# EXCELに書き出し\n",
    "now = datetime.datetime.now()\n",
    "filename = './journal_results_' + now.strftime('%Y%m%d_%H%M%S') + '.xlsx'\n",
    "with pd.ExcelWriter(filename) as writer:\n",
    "    journal_results_df.to_excel(writer, sheet_name=now.strftime('%Y%m%d'))\n"
   ]
  },
  {
   "cell_type": "code",
   "execution_count": 10,
   "metadata": {},
   "outputs": [
    {
     "name": "stderr",
     "output_type": "stream",
     "text": [
      "<ipython-input-10-668cf0ea3bb5>:36: FutureWarning: pandas.io.json.json_normalize is deprecated, use pandas.json_normalize instead\n",
      "  institute_results_df = pd.io.json.json_normalize(institute_results['results']['bindings'])\n",
      "<ipython-input-10-668cf0ea3bb5>:37: FutureWarning: pandas.io.json.json_normalize is deprecated, use pandas.json_normalize instead\n",
      "  institute_results_df = pd.io.json.json_normalize(\n"
     ]
    }
   ],
   "source": [
    "# 日本の大学のQ番号とrorIDの対照表\n",
    "import datetime\n",
    "import json\n",
    "import pandas as pd\n",
    "from SPARQLWrapper import SPARQLWrapper, JSON\n",
    "sparql_wikidata = SPARQLWrapper(\n",
    "    \"https://query.wikidata.org/sparql\", returnFormat='json')\n",
    "sparql_wikidata.setQuery(\"\"\"\n",
    "PREFIX wd: <http://www.wikidata.org/entity/>\n",
    "PREFIX wdt: <http://www.wikidata.org/prop/direct/>\n",
    "SELECT DISTINCT ?institution ?institutionLabel ?ror\n",
    "WHERE\n",
    "{\n",
    "    {?institution wdt:P31 wd:Q3918 .}  # 大学\n",
    "    UNION\n",
    "    {?institution wdt:P31 wd:Q902104 .}  # 私立大学\n",
    "    UNION\n",
    "    {?institution wdt:P31 wd:Q265662 .}  # 国立大学\n",
    "    UNION\n",
    "    {?institution wdt:P31 wd:Q875538 .}  # 公立大学\n",
    "    UNION\n",
    "    {?institution wdt:P31 wd:Q189004 .}  # college\n",
    "    UNION\n",
    "    {?institution wdt:P31 wd:Q370258 .}  # junior college\n",
    "    ?institution wdt:P17 wd:Q17 .\n",
    "    OPTIONAL {?institution wdt:P6782 ?ror .}\n",
    "    SERVICE wikibase:label {bd:serviceParam wikibase:language \"[AUTO_LANGUAGE],ja\".}\n",
    "}\n",
    "\"\"\")\n",
    "sparql_wikidata.setReturnFormat(JSON)\n",
    "institute_results = sparql_wikidata.query().convert()\n",
    "# print(institute_results)\n",
    "\n",
    "# pandasでJSON文字列・ファイルを読み込み\n",
    "# https://stackoverflow.com/questions/56728845/why-the-results-are-diffrent-in-sparqlwrapper-and-wikidata-query-editor-in-sparq\n",
    "institute_results_df = pd.io.json.json_normalize(\n",
    "    institute_results['results']['bindings'])\n",
    "# EXCELに書き出し\n",
    "now = datetime.datetime.now()\n",
    "filename = './institute_results_' + now.strftime('%Y%m%d_%H%M%S') + '.xlsx'\n",
    "with pd.ExcelWriter(filename) as writer:\n",
    "    institute_results_df.to_excel(writer, sheet_name=now.strftime('%Y%m%d'))\n"
   ]
  },
  {
   "cell_type": "code",
   "execution_count": 7,
   "metadata": {},
   "outputs": [
    {
     "name": "stderr",
     "output_type": "stream",
     "text": [
      "<ipython-input-7-9a5492cb0dd5>:22: FutureWarning: pandas.io.json.json_normalize is deprecated, use pandas.json_normalize instead\n",
      "  kiyou_results_df = pd.io.json.json_normalize(\n"
     ]
    }
   ],
   "source": [
    "#紀要 Q11605103\n",
    "import datetime\n",
    "import json\n",
    "import pandas as pd\n",
    "from SPARQLWrapper import SPARQLWrapper, JSON\n",
    "sparql_wikidata = SPARQLWrapper(\n",
    "    \"https://query.wikidata.org/sparql\", returnFormat='json')\n",
    "sparql_wikidata.setQuery(\"\"\"\n",
    "PREFIX wd: <http://www.wikidata.org/entity/>\n",
    "PREFIX wdt: <http://www.wikidata.org/prop/direct/>\n",
    "SELECT ?item ?itemLabel ?publisherLabel WHERE {\n",
    "  ?item wdt:P31 wd:Q11605103.\n",
    "  OPTIONAL { ?item wdt:P123 ?publisher. }\n",
    "  SERVICE wikibase:label { bd:serviceParam wikibase:language \"[AUTO_LANGUAGE],ja,en\". }\n",
    "}\n",
    "\"\"\")\n",
    "sparql_wikidata.setReturnFormat(JSON)\n",
    "kiyou_results = sparql_wikidata.query().convert()\n",
    "\n",
    "# pandasでJSON文字列・ファイルを読み込み\n",
    "# https://stackoverflow.com/questions/56728845/why-the-results-are-diffrent-in-sparqlwrapper-and-wikidata-query-editor-in-sparq\n",
    "kiyou_results_df = pd.io.json.json_normalize(\n",
    "    kiyou_results['results']['bindings'])\n",
    "# EXCELに書き出し\n",
    "now = datetime.datetime.now()\n",
    "filename = './kiyou_results_' + now.strftime('%Y%m%d_%H%M%S') + '.xlsx'\n",
    "with pd.ExcelWriter(filename) as writer:\n",
    "    kiyou_results_df.to_excel(writer, sheet_name=now.strftime('%Y%m%d'))\n",
    "\n"
   ]
  },
  {
   "cell_type": "code",
   "execution_count": 16,
   "metadata": {},
   "outputs": [
    {
     "name": "stderr",
     "output_type": "stream",
     "text": [
      "<ipython-input-16-ed26422f1e2b>:24: FutureWarning: pandas.io.json.json_normalize is deprecated, use pandas.json_normalize instead\n",
      "  bunko_results_df = pd.io.json.json_normalize(\n"
     ]
    }
   ],
   "source": [
    "#日本の大学の特殊文庫\n",
    "import datetime\n",
    "import json\n",
    "import pandas as pd\n",
    "from SPARQLWrapper import SPARQLWrapper, JSON\n",
    "sparql_wikidata = SPARQLWrapper(\n",
    "    \"https://query.wikidata.org/sparql\", returnFormat='json')\n",
    "\n",
    "sparql_wikidata.setQuery(\"\"\"\n",
    "SELECT ?item ?itemLabel ?libraryLabel ?url WHERE {\n",
    "  ?item wdt:P31 wd:Q62108745.\n",
    "  OPTIONAL {\n",
    "    ?item wdt:P361 ?library;\n",
    "      wdt:P856 ?url.\n",
    "  }\n",
    "  SERVICE wikibase:label { bd:serviceParam wikibase:language \"[AUTO_LANGUAGE],ja,en\". }\n",
    "}\n",
    "\"\"\")\n",
    "sparql_wikidata.setReturnFormat(JSON)\n",
    "bunko_results = sparql_wikidata.query().convert()\n",
    "\n",
    "# pandasでJSON文字列・ファイルを読み込み\n",
    "# https://stackoverflow.com/questions/56728845/why-the-results-are-diffrent-in-sparqlwrapper-and-wikidata-query-editor-in-sparq\n",
    "bunko_results_df = pd.io.json.json_normalize(\n",
    "    bunko_results['results']['bindings'])\n",
    "# EXCELに書き出し\n",
    "now = datetime.datetime.now()\n",
    "filename = './bunko_results_' + now.strftime('%Y%m%d_%H%M%S') + '.xlsx'\n",
    "with pd.ExcelWriter(filename) as writer:\n",
    "    bunko_results_df.to_excel(writer, sheet_name=now.strftime('%Y%m%d'))\n"
   ]
  },
  {
   "cell_type": "code",
   "execution_count": 3,
   "metadata": {},
   "outputs": [
    {
     "name": "stderr",
     "output_type": "stream",
     "text": [
      "C:\\Users\\onowa\\AppData\\Local\\Temp/ipykernel_15488/697592238.py:38: FutureWarning: pandas.io.json.json_normalize is deprecated, use pandas.json_normalize instead\n",
      "  jps_results_df = pd.io.json.json_normalize(\n"
     ]
    }
   ],
   "source": [
    "# ジャパンサーチ\n",
    "# SPARQLエンドポイント(https://jpsearch.go.jp/rdf/sparql/)\n",
    "import datetime\n",
    "import json\n",
    "import pandas as pd\n",
    "from SPARQLWrapper import SPARQLWrapper, JSON\n",
    "sparql_jps = SPARQLWrapper(\"https://jpsearch.go.jp/rdf/sparql/\", returnFormat='json')\n",
    "sparql_jps.setQuery(\"\"\"\n",
    "\n",
    "PREFIX jps: <https://jpsearch.go.jp/term/property#>\n",
    "PREFIX schema: <http://schema.org/>\n",
    "PREFIX type: <https://jpsearch.go.jp/term/type/>\n",
    "PREFIX chname: <https://jpsearch.go.jp/entity/chname/>\n",
    "PREFIX place: <https://jpsearch.go.jp/entity/place/>\n",
    "PREFIX time: <https://jpsearch.go.jp/entity/time/>\n",
    "PREFIX work: <https://jpsearch.go.jp/entity/work/>\n",
    "PREFIX role: <https://jpsearch.go.jp/term/role/>\n",
    "PREFIX keyword: <https://jpsearch.go.jp/term/keyword/>\n",
    "PREFIX skos: <http://www.w3.org/2004/02/skos/core#>\n",
    "PREFIX gvname: <https://jpsearch.go.jp/entity/gvname/>\n",
    "PREFIX ncname: <https://jpsearch.go.jp/entity/ncname/>\n",
    "PREFIX ncplace: <https://jpsearch.go.jp/entity/ncplace/>\n",
    "PREFIX series: <https://jpsearch.go.jp/entity/series/>\n",
    "PREFIX xsd: <http://www.w3.org/2001/XMLSchema#>\n",
    "PREFIX rdf: <http://www.w3.org/1999/02/22-rdf-syntax-ns#>\n",
    "PREFIX rdfs: <http://www.w3.org/2000/01/rdf-schema#>\n",
    "PREFIX owl: <http://www.w3.org/2002/07/owl#>\n",
    "SELECT ?s ?label WHERE {\n",
    "    ?s jps:sourceInfo/schema:provider chname:二十一代集データベース ;\n",
    "        rdfs:label ?label\n",
    "} \n",
    "\"\"\")\n",
    "sparql_jps.setReturnFormat(JSON)\n",
    "results_jps = sparql_jps.query().convert()\n",
    "# print(results_jps)\n",
    "# pandasでJSON文字列・ファイルを読み込み\n",
    "# https://stackoverflow.com/questions/56728845/why-the-results-are-diffrent-in-sparqlwrapper-and-wikidata-query-editor-in-sparq\n",
    "jps_results_df = pd.io.json.json_normalize(\n",
    "    results_jps['results']['bindings'])\n",
    "# EXCELに書き出し\n",
    "now = datetime.datetime.now()\n",
    "filename = './jps_results_' + now.strftime('%Y%m%d_%H%M%S') + '.xlsx'\n",
    "with pd.ExcelWriter(filename) as writer:\n",
    "\tjps_results_df.to_excel(writer, sheet_name=now.strftime('%Y%m%d'))"
   ]
  },
  {
   "cell_type": "markdown",
   "metadata": {},
   "source": [
    "https://jpsearch.go.jp/rdf/sparql/easy/?query=SELECT+%3Fwho+%28count%28%3Fcho%29+as+%3Fcount%29+WHERE+%7B%0D%0A%09%3Fcho+jps%3AsourceInfo%2Fschema%3Aprovider+chname%3A%E4%BA%8C%E5%8D%81%E4%B8%80%E4%BB%A3%E9%9B%86%E3%83%87%E3%83%BC%E3%82%BF%E3%83%99%E3%83%BC%E3%82%B9+%3B%0D%0A%09%09schema%3Acreator+%3Fwho+.%0D%0A%09%3Fwho+schema%3AmemberOf+chname%3A%E5%A5%B3%E6%88%BF%E4%B8%89%E5%8D%81%E5%85%AD%E6%AD%8C%E4%BB%99+.%0D%0A%7D+GROUP+BY+%3Fwho+ORDER+BY+desc%28%3Fcount%29%0D%0A"
   ]
  },
  {
   "cell_type": "code",
   "execution_count": 12,
   "metadata": {},
   "outputs": [
    {
     "name": "stderr",
     "output_type": "stream",
     "text": [
      "C:\\Users\\onowa\\AppData\\Local\\Temp/ipykernel_12816/519674425.py:23: FutureWarning: pandas.io.json.json_normalize is deprecated, use pandas.json_normalize instead\n",
      "  jps_results_df = pd.io.json.json_normalize(\n"
     ]
    }
   ],
   "source": [
    "# ジャパンサーチ\n",
    "# SPARQLエンドポイント(https://jpsearch.go.jp/rdf/sparql/)\n",
    "import datetime\n",
    "import json\n",
    "import pandas as pd\n",
    "from SPARQLWrapper import SPARQLWrapper, JSON\n",
    "sparql_jps = SPARQLWrapper(\"https://jpsearch.go.jp/rdf/sparql/\", returnFormat='json')\n",
    "sparql_jps.setQuery(\"\"\"\n",
    "PREFIX rdfs: <http://www.w3.org/2000/01/rdf-schema#>\n",
    "PREFIX schema: <http://schema.org/>\n",
    "PREFIX place: <https://jpsearch.go.jp/entity/place/>\n",
    "PREFIX type: <https://jpsearch.go.jp/term/type/>\n",
    "SELECT ?cho ?who ?label ?label2 ?type WHERE {\n",
    "\t?cho schema:description\t'［書名］新続古今和歌集' ;\n",
    "         rdfs:label ?label2 .\n",
    "}\n",
    "\"\"\")\n",
    "sparql_jps.setReturnFormat(JSON)\n",
    "results_jps = sparql_jps.query().convert()\n",
    "# print(results_jps)\n",
    "# pandasでJSON文字列・ファイルを読み込み\n",
    "# https://stackoverflow.com/questions/56728845/why-the-results-are-diffrent-in-sparqlwrapper-and-wikidata-query-editor-in-sparq\n",
    "jps_results_df = pd.io.json.json_normalize(\n",
    "    results_jps['results']['bindings'])\n",
    "# EXCELに書き出し\n",
    "now = datetime.datetime.now()\n",
    "filename = './jps_results_' + now.strftime('%Y%m%d_%H%M%S') + '.xlsx'\n",
    "with pd.ExcelWriter(filename) as writer:\n",
    "\tjps_results_df.to_excel(writer, sheet_name=now.strftime('%Y%m%d'))"
   ]
  },
  {
   "cell_type": "code",
   "execution_count": 15,
   "metadata": {},
   "outputs": [
    {
     "name": "stderr",
     "output_type": "stream",
     "text": [
      "C:\\Users\\onowa\\AppData\\Local\\Temp/ipykernel_12816/2344309687.py:60: FutureWarning: pandas.io.json.json_normalize is deprecated, use pandas.json_normalize instead\n",
      "  jps_results_df = pd.io.json.json_normalize( l )\n"
     ]
    }
   ],
   "source": [
    "# ジャパンサーチ\n",
    "# SPARQLエンドポイント(https://jpsearch.go.jp/rdf/sparql/)\n",
    "import datetime\n",
    "import json\n",
    "import pandas as pd\n",
    "from SPARQLWrapper import SPARQLWrapper, JSON\n",
    "\n",
    "wakashu = [\"古今和歌集\", \"後撰和歌集\" , \"拾遺和歌集\", \n",
    "           \"後拾遺和歌集\", \"金葉和歌集\", \"詞花和歌集\", \"千載和歌集\", \n",
    "           \"新古今和歌集\", \"新勅撰和歌集\", \"続後撰和歌集\", \"続古今和歌集\", \n",
    "           \"続拾遺和歌集\", \"新後撰和歌集\", \"玉葉和歌集\", \"続千載和歌集\", \n",
    "           \"続後拾遺和歌集\", \"風雅和歌集\", \"新千載和歌集\", \"新拾遺和歌集\", \"新後拾遺和歌集\", \"新続古今和歌集\"]\n",
    "\n",
    "def sparql_query (wakashu):\n",
    "    query_jps = \"\"\"\n",
    "PREFIX jps: <https://jpsearch.go.jp/term/property#>\n",
    "PREFIX schema: <http://schema.org/>\n",
    "PREFIX type: <https://jpsearch.go.jp/term/type/>\n",
    "PREFIX chname: <https://jpsearch.go.jp/entity/chname/>\n",
    "PREFIX place: <https://jpsearch.go.jp/entity/place/>\n",
    "PREFIX time: <https://jpsearch.go.jp/entity/time/>\n",
    "PREFIX work: <https://jpsearch.go.jp/entity/work/>\n",
    "PREFIX role: <https://jpsearch.go.jp/term/role/>\n",
    "PREFIX keyword: <https://jpsearch.go.jp/term/keyword/>\n",
    "PREFIX skos: <http://www.w3.org/2004/02/skos/core#>\n",
    "PREFIX gvname: <https://jpsearch.go.jp/entity/gvname/>\n",
    "PREFIX ncname: <https://jpsearch.go.jp/entity/ncname/>\n",
    "PREFIX ncplace: <https://jpsearch.go.jp/entity/ncplace/>\n",
    "PREFIX series: <https://jpsearch.go.jp/entity/series/>\n",
    "PREFIX xsd: <http://www.w3.org/2001/XMLSchema#>\n",
    "PREFIX rdf: <http://www.w3.org/1999/02/22-rdf-syntax-ns#>\n",
    "PREFIX rdfs: <http://www.w3.org/2000/01/rdf-schema#>\n",
    "PREFIX owl: <http://www.w3.org/2002/07/owl#>\n",
    "    SELECT ?s ?label ?maki WHERE {\n",
    "        ?s schema:description\t'［書名］\"\"\" + wakashu + \"\"\"' ;\n",
    "            rdfs:label ?label ;\n",
    "            schema:isPartOf/work: ? ?maki  .\n",
    "    } ORDER BY ?s\n",
    "    \"\"\"\n",
    "\n",
    "    sparql_jps = SPARQLWrapper(\"https://jpsearch.go.jp/rdf/sparql/\", returnFormat='json')\n",
    "    sparql_jps.setQuery(query_jps)\n",
    "    sparql_jps.setReturnFormat(JSON)\n",
    "    results_jps = sparql_jps.query().convert()\n",
    "    # print(results_jps['results']['bindings'])\n",
    "    results_jps2 = results_jps['results']['bindings']\n",
    "    return results_jps2\n",
    "\n",
    "l = []\n",
    "for item in wakashu:\n",
    "    # print(item)\n",
    "    l.extend(sparql_query(item))\n",
    "    # l2 = sparql_query(item)\n",
    "    # print(l2)\n",
    "\n",
    "# print(l)\n",
    "\n",
    "# with open('jps_wakashu.json', 'w') as f:\n",
    "#     json.dump(l, f, indent=2, ensure_ascii=False)\n",
    "jps_results_df = pd.io.json.json_normalize( l )\n",
    "    # results_l['results']['bindings'])\n",
    "# EXCELに書き出し\n",
    "now = datetime.datetime.now()\n",
    "filename = './jps_results_' + now.strftime('%Y%m%d_%H%M%S') + '.xlsx'\n",
    "with pd.ExcelWriter(filename) as writer:\n",
    "\tjps_results_df.to_excel(writer, sheet_name=now.strftime('%Y%m%d'))\n"
   ]
  },
  {
   "cell_type": "code",
   "execution_count": 16,
   "metadata": {},
   "outputs": [
    {
     "data": {
      "text/plain": [
       "34220"
      ]
     },
     "execution_count": 16,
     "metadata": {},
     "output_type": "execute_result"
    }
   ],
   "source": [
    "len(l)"
   ]
  },
  {
   "cell_type": "code",
   "execution_count": 19,
   "metadata": {},
   "outputs": [
    {
     "name": "stdout",
     "output_type": "stream",
     "text": [
      "{'head': {'link': [], 'vars': ['count']}, 'results': {'distinct': False, 'ordered': True, 'bindings': [{'count': {'type': 'typed-literal', 'datatype': 'http://www.w3.org/2001/XMLSchema#integer', 'value': '34346'}}]}}\n"
     ]
    }
   ],
   "source": [
    "# ジャパンサーチ　件数を数える\n",
    "# SPARQLエンドポイント(https://jpsearch.go.jp/rdf/sparql/)\n",
    "import datetime\n",
    "import json\n",
    "import pandas as pd\n",
    "from SPARQLWrapper import SPARQLWrapper, JSON\n",
    "sparql_jps = SPARQLWrapper(\"https://jpsearch.go.jp/rdf/sparql/\", returnFormat='json')\n",
    "sparql_jps.setQuery(\"\"\"\n",
    "PREFIX rdfs: <http://www.w3.org/2000/01/rdf-schema#>\n",
    "PREFIX schema: <http://schema.org/>\n",
    "PREFIX place: <https://jpsearch.go.jp/entity/place/>\n",
    "PREFIX type: <https://jpsearch.go.jp/term/type/>\n",
    "SELECT (count(?cho) as ?count) WHERE {\n",
    "\t?cho jps:sourceInfo/schema:provider chname:二十一代集データベース .\n",
    "}\n",
    "\"\"\")\n",
    "sparql_jps.setReturnFormat(JSON)\n",
    "results_jps = sparql_jps.query().convert()\n",
    "print(results_jps)"
   ]
  },
  {
   "cell_type": "code",
   "execution_count": 2,
   "metadata": {},
   "outputs": [
    {
     "name": "stdout",
     "output_type": "stream",
     "text": [
      "0         音羽山／をとにきゝつゝ／相坂の／関のこなたに／年をふる哉\n",
      "1        まつむしの／初こゑさそふ／秋風は／音羽山より／吹そめにけり\n",
      "2       今朝かはる／秋とは風の／音羽山／をとに聞より／身にそしみける\n",
      "3        秋風の／よもに吹くる／音羽山／なにの草木か／のとけかるへき\n",
      "4         音羽山／けさこえくれは／郭公／梢はるかに／いまそなくなる\n",
      "5     いつしかと／かすまさりせは／音羽山／をとはかりにや／春をきかまし\n",
      "6          音羽山／花さきぬらし／あふ坂の／関のこなたに／匂ふ春風\n",
      "7         いつしかと／今朝は時雨の／音羽山／秋を残さす／散紅葉かな\n",
      "8      音羽山／もみちちるらし／あふさかの／関のを川に／にしきをりかく\n",
      "9           音羽山／秋より後の／紅葉はを／関もる神に／風そ手向る\n",
      "10         音羽山／峰の梢も／みえぬまて／関のこなたは／雪降にけり\n",
      "Name: label.value, dtype: object\n"
     ]
    },
    {
     "name": "stderr",
     "output_type": "stream",
     "text": [
      "C:\\Users\\onowa\\AppData\\Local\\Temp/ipykernel_5892/4229614619.py:38: FutureWarning: pandas.io.json.json_normalize is deprecated, use pandas.json_normalize instead\n",
      "  jps_results_df = pd.io.json.json_normalize(\n"
     ]
    }
   ],
   "source": [
    "# SPARQLでテキスト検索をする\n",
    "# https://wiki.lifesciencedb.jp/mw/SPARQL_TextSearch\n",
    "# ジャパンサーチ\n",
    "# SPARQLエンドポイント(https://jpsearch.go.jp/rdf/sparql/)\n",
    "import datetime\n",
    "import json\n",
    "import pandas as pd\n",
    "from SPARQLWrapper import SPARQLWrapper, JSON\n",
    "sparql_jps = SPARQLWrapper(\"https://jpsearch.go.jp/rdf/sparql/\", returnFormat='json')\n",
    "sparql_jps.setQuery(\"\"\"\n",
    "\n",
    "PREFIX jps: <https://jpsearch.go.jp/term/property#>\n",
    "PREFIX schema: <http://schema.org/>\n",
    "PREFIX type: <https://jpsearch.go.jp/term/type/>\n",
    "PREFIX chname: <https://jpsearch.go.jp/entity/chname/>\n",
    "PREFIX place: <https://jpsearch.go.jp/entity/place/>\n",
    "PREFIX time: <https://jpsearch.go.jp/entity/time/>\n",
    "PREFIX work: <https://jpsearch.go.jp/entity/work/>\n",
    "PREFIX role: <https://jpsearch.go.jp/term/role/>\n",
    "PREFIX keyword: <https://jpsearch.go.jp/term/keyword/>\n",
    "PREFIX skos: <http://www.w3.org/2004/02/skos/core#>\n",
    "PREFIX gvname: <https://jpsearch.go.jp/entity/gvname/>\n",
    "PREFIX ncname: <https://jpsearch.go.jp/entity/ncname/>\n",
    "PREFIX ncplace: <https://jpsearch.go.jp/entity/ncplace/>\n",
    "PREFIX series: <https://jpsearch.go.jp/entity/series/>\n",
    "PREFIX xsd: <http://www.w3.org/2001/XMLSchema#>\n",
    "PREFIX rdf: <http://www.w3.org/1999/02/22-rdf-syntax-ns#>\n",
    "PREFIX rdfs: <http://www.w3.org/2000/01/rdf-schema#>\n",
    "PREFIX owl: <http://www.w3.org/2002/07/owl#>\n",
    "SELECT ?s ?label WHERE {\n",
    "    ?s jps:sourceInfo/schema:provider chname:二十一代集データベース ;\n",
    "        rdfs:label ?label  FILTER regex (?label, \"音羽山\", \"i\") .\n",
    "} \n",
    "\"\"\")\n",
    "sparql_jps.setReturnFormat(JSON)\n",
    "results_jps = sparql_jps.query().convert()\n",
    "# print(results_jps)\n",
    "# pandasでJSON文字列・ファイルを読み込み\n",
    "# https://stackoverflow.com/questions/56728845/why-the-results-are-diffrent-in-sparqlwrapper-and-wikidata-query-editor-in-sparq\n",
    "jps_results_df = pd.io.json.json_normalize(\n",
    "    results_jps['results']['bindings'])\n",
    "# 表示\n",
    "print(jps_results_df['label.value'])"
   ]
  }
 ],
 "metadata": {
  "kernelspec": {
   "display_name": "Python 3.8.8 ('base')",
   "language": "python",
   "name": "python3"
  },
  "language_info": {
   "codemirror_mode": {
    "name": "ipython",
    "version": 3
   },
   "file_extension": ".py",
   "mimetype": "text/x-python",
   "name": "python",
   "nbconvert_exporter": "python",
   "pygments_lexer": "ipython3",
   "version": "3.9.7"
  },
  "orig_nbformat": 4,
  "vscode": {
   "interpreter": {
    "hash": "afaf18bb8d334b8578cb7cb896db3e9fd6b32fbda0841a9055cb27cf89eb9d11"
   }
  }
 },
 "nbformat": 4,
 "nbformat_minor": 2
}
