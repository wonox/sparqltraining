{
 "cells": [
  {
   "cell_type": "markdown",
   "metadata": {},
   "source": [
    "# SPARQLクエリ集\n",
    "https://wp.lodosaka.jp/tool/sparqlquery/　\n",
    "より"
   ]
  },
  {
   "cell_type": "markdown",
   "metadata": {},
   "source": [
    "# sparql traning"
   ]
  },
  {
   "cell_type": "code",
   "execution_count": 1,
   "metadata": {},
   "outputs": [],
   "source": [
    "from SPARQLWrapper import SPARQLWrapper\n",
    "sparql = SPARQLWrapper(endpoint='http://ja.dbpedia.org/sparql', returnFormat='json')"
   ]
  },
  {
   "cell_type": "code",
   "execution_count": null,
   "metadata": {},
   "outputs": [],
   "source": [
    "# 「東京都を主語（Subject）に含む」トリプルの述語(?p）と目的語(?o)を取得する\n",
    "sparql.setQuery(\"\"\"                                                                                                                                                                      \n",
    "    PREFIX dbpedia-owl:  <http://dbpedia.org/ontology/>                                                                                                                                  \n",
    "    select distinct * where { <http://ja.dbpedia.org/resource/東京都> ?p ?o . } LIMIT 100                                                                                                                \n",
    "\"\"\")\n",
    "results = sparql.query().convert()\n",
    "print(results)"
   ]
  },
  {
   "cell_type": "code",
   "execution_count": null,
   "metadata": {},
   "outputs": [],
   "source": [
    "#     「ラベルに“大阪”を含む」トリプルの主語(?s)\n",
    "# サンプルにある #label>?  の ? 不要\n",
    "sparql.setQuery(\"\"\"                                                                                                                                                                      \n",
    "select distinct ?s where {\n",
    "  ?s <http://www.w3.org/2000/01/rdf-schema#label> \"大阪\"@ja .\n",
    "}LIMIT 100\n",
    "\"\"\")\n",
    "results = sparql.query().convert()\n",
    "print(results)"
   ]
  },
  {
   "cell_type": "code",
   "execution_count": null,
   "metadata": {},
   "outputs": [],
   "source": [
    "# https://ja.dbpedia.org/sparql?default-graph-uri=http%3A%2F%2Fja.dbpedia.org&\n",
    "# query=PREFIX+rdfs%3A+%3Chttp%3A%2F%2Fwww.w3.org%2F2000%2F01%2Frdf-schema%23%3E%0D%0A\n",
    "# select+distinct+%3Fp+%3Fo+where+%7B%0D%0A++\n",
    "# %3Fs+rdfs%3Alabel+%22%E5%A4%A7%E9%98%AA%22%40ja+.++%0D%0A++%3Fs+%3Fp+%3Fo.%0D%0A%7DLIMIT+100&format=text%2Fhtml&timeout=0&debug=on\n",
    "sparql.setQuery(\"\"\"\n",
    "PREFIX rdfs: <http://www.w3.org/2000/01/rdf-schema#>\n",
    "select distinct ?p ?o where {\n",
    "  ?s rdfs:label \"大阪府\"@ja . \n",
    "  ?s ?p ?o.\n",
    "}LIMIT 100\n",
    "\"\"\")\n",
    "results = sparql.query().convert()\n",
    "print(results)"
   ]
  },
  {
   "cell_type": "code",
   "execution_count": null,
   "metadata": {},
   "outputs": [],
   "source": [
    "#「ラベルが“大阪”と一致する」トリプルの主語(?s)につながっている述語(?p)と目的語(?o)\n",
    "sparql.setQuery(\"\"\"\n",
    "select distinct ?s where {\n",
    "  ?s <http://www.w3.org/2000/01/rdf-schema#label> ?o \n",
    "  FILTER(regex(str(?o), \"大阪\" )) .\n",
    "}LIMIT 100\n",
    "\"\"\")\n",
    "results = sparql.query().convert()\n",
    "print(results)"
   ]
  },
  {
   "cell_type": "code",
   "execution_count": null,
   "metadata": {},
   "outputs": [],
   "source": [
    "# 大阪府が持つプロパティ一覧\n",
    "sparql.setQuery(\"\"\"\n",
    "PREFIX dbpedia-ja: <http://ja.dbpedia.org/resource/>\n",
    "select distinct ?p where {\n",
    "  dbpedia-ja:大阪府 ?p ?o.\n",
    "}\n",
    "\n",
    "\"\"\")\n",
    "results = sparql.query().convert()\n",
    "print(results)"
   ]
  },
  {
   "cell_type": "code",
   "execution_count": null,
   "metadata": {},
   "outputs": [],
   "source": [
    "# プリキュアシリーズが持つプロパティ一覧\n",
    "sparql.setQuery(\"\"\"\n",
    "PREFIX dbpedia-ja: <http://ja.dbpedia.org/resource/>\n",
    "select distinct ?p where {\n",
    "  dbpedia-ja:プリキュアシリーズ ?p ?o.\n",
    "}\n",
    "\"\"\")\n",
    "results = sparql.query().convert()\n",
    "print(results)"
   ]
  },
  {
   "cell_type": "code",
   "execution_count": null,
   "metadata": {},
   "outputs": [],
   "source": [
    "# 日本の都道府県一覧\n",
    "sparql.setQuery(\"\"\"\n",
    "PREFIX dbpedia-owl:  <http://dbpedia.org/ontology/>\n",
    "PREFIX category-ja: <http://ja.dbpedia.org/resource/Category:>\n",
    "select distinct ?s where {\n",
    "  ?s rdf:type dbpedia-owl:Place.\n",
    "  ?s dbpedia-owl:wikiPageWikiLink category-ja:日本の都道府県.\n",
    "}\n",
    "\"\"\")\n",
    "results = sparql.query().convert()\n",
    "print(results)"
   ]
  },
  {
   "cell_type": "code",
   "execution_count": null,
   "metadata": {},
   "outputs": [],
   "source": [
    "# Category:プリキュアシリーズのテレビアニメが持つプロパティ一覧\n",
    "sparql.setQuery(\"\"\"\n",
    "PREFIX dbpedia-owl:  <http://dbpedia.org/ontology/>\n",
    "PREFIX category-ja: <http://ja.dbpedia.org/resource/Category:>\n",
    "select distinct ?s where {\n",
    "  ?s rdf:type dbpedia-owl:Anime.\n",
    "  ?s dbpedia-owl:wikiPageWikiLink category-ja:プリキュアシリーズ.\n",
    "}\n",
    "\"\"\")\n",
    "results = sparql.query().convert()\n",
    "print(results)"
   ]
  },
  {
   "cell_type": "code",
   "execution_count": null,
   "metadata": {},
   "outputs": [],
   "source": [
    "# Category:プリキュアシリーズのテレビアニメ\n",
    "sparql.setQuery(\"\"\"\n",
    "PREFIX dbpedia-owl:  <http://dbpedia.org/ontology/>\n",
    "PREFIX category-ja: <http://ja.dbpedia.org/resource/Category:>\n",
    "select distinct ?s where {\n",
    "  ?s rdf:type dbpedia-owl:Anime.\n",
    "  ?s dbpedia-owl:wikiPageWikiLink category-ja:プリキュアシリーズのテレビアニメ.\n",
    "}\n",
    "\"\"\")\n",
    "results = sparql.query().convert()\n",
    "print(results)"
   ]
  },
  {
   "cell_type": "code",
   "execution_count": null,
   "metadata": {},
   "outputs": [],
   "source": [
    "#　乃木坂46のプロパティ一覧 \n",
    "sparql.setQuery(\"\"\"\n",
    "PREFIX dbpedia-ja: <http://ja.dbpedia.org/resource/>\n",
    "select distinct ?p where {\n",
    "  dbpedia-ja:乃木坂46 ?p ?o.\n",
    "}\n",
    "LIMIT 3\n",
    "\"\"\")\n",
    "results = sparql.query().convert()\n",
    "print(results)"
   ]
  },
  {
   "cell_type": "code",
   "execution_count": null,
   "metadata": {},
   "outputs": [],
   "source": [
    "# 乃木坂46のメンバー\n",
    "sparql.setQuery(\"\"\"\n",
    "PREFIX prop-ja: <http://ja.dbpedia.org/property/>\n",
    "PREFIX dbpedia-ja: <http://ja.dbpedia.org/resource/>\n",
    "PREFIX dbo:<http://dbpedia.org/ontology/>\n",
    "PREFIX rdfs: <http://www.w3.org/2000/01/rdf-schema#>\n",
    "PREFIX category-ja: <http://ja.dbpedia.org/resource/Category:>\n",
    "\n",
    "select distinct * where {\n",
    "  # dbpedia-ja:乃木坂46 dbp-owl:wikiPageWikiLink ?wikiLink .\n",
    "  ?wikiLink dbo:wikiPageWikiLink dbpedia-ja:乃木坂46 .\n",
    "  # ?wikiLink rdf:type foaf:Person .\n",
    "  # ?wikiLink rdf:type schema:Person .\n",
    "  ?wikiLink dbo:wikiPageWikiLink category-ja:乃木坂46の所属者 .\n",
    "  }\n",
    "LIMIT 100\n",
    "\"\"\")\n",
    "results = sparql.query().convert()\n",
    "print(results)"
   ]
  },
  {
   "cell_type": "markdown",
   "metadata": {},
   "source": [
    "# wikidata\n",
    "- 一時、403 になった"
   ]
  },
  {
   "cell_type": "code",
   "execution_count": null,
   "metadata": {},
   "outputs": [],
   "source": [
    "# HTTPError: HTTP Error 403: Forbidden\n",
    "# Wikidata SPARQL 403 HTTP Errors\n",
    "# https://www.mediawiki.org/wiki/Topic:V1zau9rqd4ritpug\n",
    "\n",
    "from SPARQLWrapper import SPARQLWrapper, JSON\n",
    "import pandas as pd\n",
    "sparql_wikidata = SPARQLWrapper(\"https://query.wikidata.org/sparql\")\n",
    "# https://query.wikidata.org/#\")\n",
    "# From https://www.wikidata.org/wiki/Wikidata:SPARQL_query_service/queries/examples#Cats\n",
    "sparql_wikidata.setQuery(\"\"\"\n",
    "SELECT ?item ?itemLabel\n",
    "WHERE\n",
    "{\n",
    "    ?item wdt:P31 wd:Q146 .\n",
    "    SERVICE wikibase:label { bd:serviceParam wikibase:language \"en\" }\n",
    "}\n",
    "\"\"\")\n",
    "sparql_wikidata.setReturnFormat(JSON)\n",
    "results = sparql_wikidata.query().convert()\n",
    "print(results)\n",
    "# results_df = pd.io.json.json_normalize(results['results']['bindings'])\n",
    "# results_df[['item.value', 'itemLabel.value']].head()"
   ]
  },
  {
   "cell_type": "code",
   "execution_count": null,
   "metadata": {},
   "outputs": [],
   "source": [
    "# instance of (P31) と subclass of (P279) \n",
    "# Q80447738\tja\t日本のアニメのテレビシリーズ、映画、OVA、ONAに登場する架空の人物（日本国外のアニメはQ15711870を使用する）\n",
    "# present in work (P1441)　登場する作品\n",
    "\n",
    "from SPARQLWrapper import SPARQLWrapper, JSON\n",
    "sparql_wikidata = SPARQLWrapper(\"https://query.wikidata.org/sparql\", returnFormat='json')\n",
    "# SPARQLWrapper(endpoint='https://query.wikidata.org/#format=json', returnFormat='json')\n",
    "sparql_wikidata.setQuery(\"\"\"\n",
    "PREFIX wikibase: <http://wikiba.se/ontology#>\n",
    "PREFIX wd: <http://www.wikidata.org/entity/>\n",
    "PREFIX wdt: <http://www.wikidata.org/prop/direct/>\n",
    "# wikidata query service アニメのキャラクタの一覧がとにかく表示される\n",
    "SELECT DISTINCT ?character ?characterLabel ?workLabel WITH {\n",
    "  # Fictional character subclasses as a named subquery\n",
    "  SELECT ?fictiontype WHERE {\n",
    "    ?fictiontype wdt:P279* wd:Q80447738. hint:Prior hint:gearing \"forward\".\n",
    "  }\n",
    "} AS %i\n",
    "WHERE\n",
    "{\n",
    "  INCLUDE %i\n",
    "  ?character wdt:P31 ?fictiontype.\n",
    "  # Date of birth\n",
    "  { ?character wdt:P1441 ?work . }\n",
    "  SERVICE wikibase:label {\n",
    "    bd:serviceParam wikibase:language \"[AUTO_LANGUAGE],ja\" . \n",
    "  }\n",
    "} \n",
    "ORDER BY ?work\n",
    "Limit 30\n",
    "\"\"\")\n",
    "results = sparql_wikidata.query().convert()\n",
    "print(results)"
   ]
  },
  {
   "cell_type": "code",
   "execution_count": null,
   "metadata": {},
   "outputs": [],
   "source": [
    "# 乃木坂46のメンバー一覧（wikibese版）\n",
    "# \n",
    "from SPARQLWrapper import SPARQLWrapper, JSON\n",
    "sparql_wikidata = SPARQLWrapper(\"https://query.wikidata.org/sparql\", returnFormat='json')\n",
    "sparql_wikidata.setQuery(\"\"\"\n",
    "PREFIX wikibase: <http://wikiba.se/ontology#>\n",
    "PREFIX wd: <http://www.wikidata.org/entity/>\n",
    "PREFIX wdt: <http://www.wikidata.org/prop/direct/>\n",
    "SELECT ?member ?memberLabel\n",
    "WHERE\n",
    "{\n",
    "  ?member wdt:P463 wd:Q185226 .\n",
    "  SERVICE wikibase:label { bd:serviceParam wikibase:language \"[AUTO_LANGUAGE],ja\". }\n",
    "}\n",
    "# SELECT ?member ?memberLabel\n",
    "# WHERE\n",
    "# {\n",
    "#   ?member wdt:P463 wd:Q185226 .\n",
    "#   OR:   wd:Q185226 wdt:P527 ?member .\n",
    "#   SERVICE wikibase:label { bd:serviceParam wikibase:language \"[AUTO_LANGUAGE]\". }\n",
    "# }\n",
    "\n",
    "\"\"\")\n",
    "sparql_wikidata.setReturnFormat(JSON)\n",
    "results = sparql_wikidata.query().convert()\n",
    "print(results)"
   ]
  },
  {
   "cell_type": "code",
   "execution_count": null,
   "metadata": {},
   "outputs": [],
   "source": [
    "# 西野七瀬乃木坂46の活動開始と卒業日（wikibese版）\n",
    "# 接頭辞 ps: (property statement) は文を目的語として指示\n",
    "# 接頭辞 pq: (property qualifier) は修飾子を指示\n",
    "# [] は関係節、無名関数\n",
    "from SPARQLWrapper import SPARQLWrapper, JSON\n",
    "sparql_wikidata = SPARQLWrapper(\"https://query.wikidata.org/sparql\", returnFormat='json')\n",
    "sparql_wikidata.setQuery(\"\"\"\n",
    "PREFIX wikibase: <http://wikiba.se/ontology#>\n",
    "PREFIX wd: <http://www.wikidata.org/entity/>\n",
    "PREFIX wdt: <http://www.wikidata.org/prop/direct/>\n",
    "SELECT DISTINCT ?statement3 ?statement3Label ?startyear ?endyear\n",
    "WHERE {\n",
    "#\twd:Q11629738 p:P463 ?statement3.    # Nishino Nanase: member of : ?statement3\n",
    "#    ?statement3 ps:P463* wd:Q185226.     # value: Nogizaka46\n",
    "#    ?statement3 pq:P580 ?startyear.    # Statement3: property qualifier: start time: ?startyear\n",
    "#    ?statement3 pq:P582 ?endyear.     \n",
    "#\tSERVICE wikibase:label { bd:serviceParam wikibase:language \"[AUTO_LANGUAGE]\" }\n",
    "\twd:Q11629738 p:P463 [\n",
    "                 ps:P463* wd:Q185226;\n",
    "                 pq:P580 ?startyear;  \n",
    "                 pq:P582 ?endyear\n",
    "                 ] .\n",
    "}\n",
    "\"\"\")\n",
    "sparql_wikidata.setReturnFormat(JSON)\n",
    "results = sparql_wikidata.query().convert()\n",
    "print(results)"
   ]
  },
  {
   "cell_type": "code",
   "execution_count": null,
   "metadata": {},
   "outputs": [],
   "source": [
    "# 乃木坂46のメンバーの加入日、脱退日（脱退者のみになる）一覧（wikibese版）\n",
    "#　\n",
    "from SPARQLWrapper import SPARQLWrapper, JSON\n",
    "sparql_wikidata = SPARQLWrapper(\"https://query.wikidata.org/sparql\", returnFormat='json')\n",
    "sparql_wikidata.setQuery(\"\"\"\n",
    "PREFIX wikibase: <http://wikiba.se/ontology#>\n",
    "PREFIX wd: <http://www.wikidata.org/entity/>\n",
    "PREFIX wdt: <http://www.wikidata.org/prop/direct/>\n",
    "SELECT ?member ?memberLabel ?startyear ?endyear\n",
    "WHERE\n",
    "{\n",
    "  ?member wdt:P463 wd:Q185226 .\n",
    "  ?member p:P463 [\n",
    "                 ps:P463 wd:Q185226;\n",
    "                 pq:P580* ?startyear;  # endがあるのにstart日付が入っていないデータが一部ある\n",
    "                 pq:P582 ?endyear\n",
    "                 ] .\n",
    "  SERVICE wikibase:label { bd:serviceParam wikibase:language \"[AUTO_LANGUAGE],ja\". }\n",
    "}\n",
    "\"\"\")\n",
    "sparql_wikidata.setReturnFormat(JSON)\n",
    "results = sparql_wikidata.query().convert()\n",
    "print(results)"
   ]
  },
  {
   "cell_type": "code",
   "execution_count": null,
   "metadata": {},
   "outputs": [],
   "source": [
    "# 乃木坂46のメンバーの加入日、脱退日（重複が残っている）一覧（wikidata版）\n",
    "#　\n",
    "from SPARQLWrapper import SPARQLWrapper, JSON\n",
    "sparql_wikidata = SPARQLWrapper(\"https://query.wikidata.org/sparql\", returnFormat='json')\n",
    "sparql_wikidata.setQuery(\"\"\"\n",
    "PREFIX wikibase: <http://wikiba.se/ontology#>\n",
    "PREFIX wd: <http://www.wikidata.org/entity/>\n",
    "PREFIX wdt: <http://www.wikidata.org/prop/direct/>\n",
    "SELECT ?member ?memberLabel ?startyear ?endyear\n",
    "WHERE\n",
    "{\n",
    "  ?member wdt:P463 wd:Q185226 .\n",
    "  ?member p:P463 ?statement1 .\n",
    "  ?statement1 ps:P463 wd:Q185226 .\n",
    "  # end も startも日付が入っていないデータが一部ある\n",
    "  OPTIONAL {\n",
    "    ?statement1 pq:P580 ?startyear . \n",
    "   ?statement1 pq:P582* ?endyear .\n",
    "    }\n",
    "  # FILTER(BOUND(?endyear)).\n",
    "  SERVICE wikibase:label { bd:serviceParam wikibase:language \"[AUTO_LANGUAGE],ja\". }\n",
    "}\n",
    "\"\"\")\n",
    "sparql_wikidata.setReturnFormat(JSON)\n",
    "results = sparql_wikidata.query().convert()\n",
    "print(results)"
   ]
  },
  {
   "cell_type": "code",
   "execution_count": null,
   "metadata": {},
   "outputs": [],
   "source": [
    "# 乃木坂46メンバーの加入日、脱退日（ただし脱退日など元データに欠損値はある）一覧（wikidata版）\n",
    "#　https://w.wiki/4ze6\n",
    "from SPARQLWrapper import SPARQLWrapper, JSON\n",
    "sparql_wikidata = SPARQLWrapper(\"https://query.wikidata.org/sparql\", returnFormat='json')\n",
    "sparql_wikidata.setQuery(\"\"\"\n",
    "PREFIX wikibase: <http://wikiba.se/ontology#>\n",
    "PREFIX wd: <http://www.wikidata.org/entity/>\n",
    "PREFIX wdt: <http://www.wikidata.org/prop/direct/>\n",
    "SELECT ?member ?memberLabel ?startyear ?endyear\n",
    "WHERE\n",
    "{\n",
    "  ?member wdt:P463 wd:Q185226 .\n",
    "  ?member p:P463 ?statement1 .\n",
    "  ?statement1 ps:P463 wd:Q185226 .\n",
    "  # end も startも日付が入っていないデータが一部ある\n",
    "  OPTIONAL { ?statement1 pq:P580* ?startyear FILTER(BOUND(?startyear) && DATATYPE(?startyear) = xsd:dateTime).}\n",
    "  OPTIONAL { ?statement1 pq:P582* ?endyear   FILTER(BOUND(?endyear) && DATATYPE(?endyear) = xsd:dateTime).}\n",
    "  # BIND(IF(BOUND(?endyear),?endyear,?endyear) AS ?startyear). # end start空欄のデータ一覧になる\n",
    "  # FILTER(\"2011-08-22\"^^xsd:dateTime <= ?endyear && ?endyear < \"2020-01-01\"^^xsd:dateTime).  # いつからいつまでに脱退したメンバー\n",
    "  # FILTER(\"2011-08-22\"^^xsd:dateTime <= ?endyear). # 結成日以降にendyearがある\n",
    "  SERVICE wikibase:label { bd:serviceParam wikibase:language \"[AUTO_LANGUAGE],ja\". }\n",
    "}\n",
    "group by ?member ?memberLabel ?startyear ?endyear # group by には表示変数を全部列挙\n",
    "order by ?endyear ?startyear\n",
    "\"\"\")\n",
    "sparql_wikidata.setReturnFormat(JSON)\n",
    "results = sparql_wikidata.query().convert()\n",
    "print(results)"
   ]
  },
  {
   "cell_type": "code",
   "execution_count": null,
   "metadata": {},
   "outputs": [],
   "source": [
    "# プリキュアシリーズー一覧\n",
    "from SPARQLWrapper import SPARQLWrapper, JSON\n",
    "sparql_wikidata = SPARQLWrapper(\"https://query.wikidata.org/sparql\", returnFormat='json')\n",
    "sparql_wikidata.setQuery(\"\"\"\n",
    "PREFIX wikibase: <http://wikiba.se/ontology#>\n",
    "PREFIX wd: <http://www.wikidata.org/entity/>\n",
    "PREFIX wdt: <http://www.wikidata.org/prop/direct/>\n",
    "# プリキュアシリーズー一覧\n",
    "# プリキュアシリーズー一覧\n",
    "SELECT DISTINCT ?series ?seriesLabel ?characterLabel ?transform\n",
    "WHERE\n",
    "{\n",
    "  wd:Q1196203 wdt:P527 ?series .\n",
    "  ?series p:P725 ?cv .\n",
    "  ?cv pq:P453 ?character .\n",
    "  OPTIONAL { ?character skos:altLabel ?alternative . } .\n",
    "  ?character skos:altLabel ?transform . FILTER (lang(?transform) = \"ja\") .\n",
    "  # OPTIONAL { ?character skos:altLabel ?alternative  . FILTER (lang(?alternative) = \"ja\")  }\n",
    "  # OPTIONAL { ?character skos:altLabel ?alternative  . FILTER ((lang(?alternative) = \"ja\") && ( CONTAINS (?alternative, \"キュア\")))  } # これだとシャイニールミナスがはじかれる^^\n",
    "  SERVICE wikibase:label { bd:serviceParam wikibase:language \"[AUTO_LANGUAGE],ja\". }\n",
    "  # FILTER (!CONTAINS (?alternative, \"キュア\"))\n",
    "  # BIND (REPLACE(?alternative, ' ', \"\") as ?transform) .\n",
    "  FILTER REGEX(?transform, \"[ア-ン]\") .\n",
    "}\n",
    "ORDER BY ?series\n",
    "\"\"\")\n",
    "sparql_wikidata.setReturnFormat(JSON)\n",
    "results = sparql_wikidata.query().convert()\n",
    "print(results)"
   ]
  },
  {
   "cell_type": "code",
   "execution_count": 4,
   "metadata": {},
   "outputs": [
    {
     "name": "stdout",
     "output_type": "stream",
     "text": [
      "{'head': {'vars': ['repository', 'repositoryLabel']}, 'results': {'bindings': [{'repository': {'type': 'uri', 'value': 'http://www.wikidata.org/entity/Q105759681'}, 'repositoryLabel': {'xml:lang': 'ja', 'type': 'literal', 'value': '京都大学学術情報リポジトリ'}}]}}\n"
     ]
    }
   ],
   "source": [
    "# 機関リポジトリ一覧\n",
    "from SPARQLWrapper import SPARQLWrapper, JSON\n",
    "sparql_wikidata = SPARQLWrapper(\"https://query.wikidata.org/sparql\", returnFormat='json')\n",
    "sparql_wikidata.setQuery(\"\"\"\n",
    "PREFIX wikibase: <http://wikiba.se/ontology#>\n",
    "PREFIX wd: <http://www.wikidata.org/entity/>\n",
    "PREFIX wdt: <http://www.wikidata.org/prop/direct/>\n",
    "SELECT DISTINCT ?repository ?repositoryLabel\n",
    "WHERE\n",
    "{\n",
    "  ?repository wdt:P31 wd:Q1065413 ;\n",
    "              wdt:P361 ?institution.\n",
    "    ?institution wdt:P17 wd:Q17 .\n",
    "  SERVICE wikibase:label { bd:serviceParam wikibase:language \"ja,de,en\".}\n",
    "}\n",
    "\"\"\")\n",
    "sparql_wikidata.setReturnFormat(JSON)\n",
    "results = sparql_wikidata.query().convert()\n",
    "print(results)\n"
   ]
  },
  {
   "cell_type": "code",
   "execution_count": null,
   "metadata": {},
   "outputs": [],
   "source": []
  }
 ],
 "metadata": {
  "interpreter": {
   "hash": "42751e3e43ee7908f4a4d17b9730cb6a060445f7f30ebfd63ff7271362d94c86"
  },
  "kernelspec": {
   "display_name": "Python 3.9.7 ('base')",
   "language": "python",
   "name": "python3"
  },
  "language_info": {
   "codemirror_mode": {
    "name": "ipython",
    "version": 3
   },
   "file_extension": ".py",
   "mimetype": "text/x-python",
   "name": "python",
   "nbconvert_exporter": "python",
   "pygments_lexer": "ipython3",
   "version": "3.9.7"
  },
  "orig_nbformat": 4
 },
 "nbformat": 4,
 "nbformat_minor": 2
}
